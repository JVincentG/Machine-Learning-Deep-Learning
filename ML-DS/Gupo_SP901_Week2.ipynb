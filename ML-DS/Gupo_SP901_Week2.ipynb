{
  "cells": [
    {
      "cell_type": "markdown",
      "metadata": {
        "id": "ikC86IFMfWRO"
      },
      "source": [
        "# Importing breast cancer dataset and splitting the data for training and testing"
      ]
    },
    {
      "cell_type": "code",
      "execution_count": 1,
      "metadata": {
        "id": "0jzyu6YO2yHQ"
      },
      "outputs": [],
      "source": [
        "# Loading dataset\n",
        "import pandas as pd\n",
        "from sklearn.datasets import load_breast_cancer\n",
        "x, y = load_breast_cancer(as_frame=True, return_X_y=True)"
      ]
    },
    {
      "cell_type": "code",
      "execution_count": 2,
      "metadata": {
        "colab": {
          "base_uri": "https://localhost:8080/",
          "height": 423
        },
        "id": "xMzA8e6UL9NI",
        "outputId": "f99109ba-aec6-4feb-ccfe-bd21935d0947"
      },
      "outputs": [
        {
          "data": {
            "text/html": [
              "<div>\n",
              "<style scoped>\n",
              "    .dataframe tbody tr th:only-of-type {\n",
              "        vertical-align: middle;\n",
              "    }\n",
              "\n",
              "    .dataframe tbody tr th {\n",
              "        vertical-align: top;\n",
              "    }\n",
              "\n",
              "    .dataframe thead th {\n",
              "        text-align: right;\n",
              "    }\n",
              "</style>\n",
              "<table border=\"1\" class=\"dataframe\">\n",
              "  <thead>\n",
              "    <tr style=\"text-align: right;\">\n",
              "      <th></th>\n",
              "      <th>target</th>\n",
              "    </tr>\n",
              "  </thead>\n",
              "  <tbody>\n",
              "    <tr>\n",
              "      <th>0</th>\n",
              "      <td>0</td>\n",
              "    </tr>\n",
              "    <tr>\n",
              "      <th>1</th>\n",
              "      <td>0</td>\n",
              "    </tr>\n",
              "    <tr>\n",
              "      <th>2</th>\n",
              "      <td>0</td>\n",
              "    </tr>\n",
              "    <tr>\n",
              "      <th>3</th>\n",
              "      <td>0</td>\n",
              "    </tr>\n",
              "    <tr>\n",
              "      <th>4</th>\n",
              "      <td>0</td>\n",
              "    </tr>\n",
              "    <tr>\n",
              "      <th>...</th>\n",
              "      <td>...</td>\n",
              "    </tr>\n",
              "    <tr>\n",
              "      <th>564</th>\n",
              "      <td>0</td>\n",
              "    </tr>\n",
              "    <tr>\n",
              "      <th>565</th>\n",
              "      <td>0</td>\n",
              "    </tr>\n",
              "    <tr>\n",
              "      <th>566</th>\n",
              "      <td>0</td>\n",
              "    </tr>\n",
              "    <tr>\n",
              "      <th>567</th>\n",
              "      <td>0</td>\n",
              "    </tr>\n",
              "    <tr>\n",
              "      <th>568</th>\n",
              "      <td>1</td>\n",
              "    </tr>\n",
              "  </tbody>\n",
              "</table>\n",
              "<p>569 rows × 1 columns</p>\n",
              "</div>"
            ],
            "text/plain": [
              "     target\n",
              "0         0\n",
              "1         0\n",
              "2         0\n",
              "3         0\n",
              "4         0\n",
              "..      ...\n",
              "564       0\n",
              "565       0\n",
              "566       0\n",
              "567       0\n",
              "568       1\n",
              "\n",
              "[569 rows x 1 columns]"
            ]
          },
          "execution_count": 2,
          "metadata": {},
          "output_type": "execute_result"
        }
      ],
      "source": [
        "# Target dataframe\n",
        "y.to_frame()"
      ]
    },
    {
      "cell_type": "code",
      "execution_count": 3,
      "metadata": {
        "id": "FnVTicodME_3"
      },
      "outputs": [],
      "source": [
        "#splitting the data to training and testing\n",
        "from sklearn.model_selection import train_test_split\n",
        "x_train, x_test, y_train, y_test = train_test_split(x, y, test_size=0.2)"
      ]
    },
    {
      "cell_type": "markdown",
      "metadata": {
        "id": "NSAk5D-cMUcP"
      },
      "source": [
        "# Training the dataset in 3 different ml models"
      ]
    },
    {
      "cell_type": "code",
      "execution_count": 4,
      "metadata": {
        "id": "fyTt5bNaMjLm"
      },
      "outputs": [],
      "source": [
        "from sklearn import metrics\n",
        "from sklearn.linear_model import LogisticRegression\n",
        "from sklearn.ensemble import RandomForestClassifier\n",
        "from sklearn import svm\n"
      ]
    },
    {
      "cell_type": "code",
      "execution_count": 5,
      "metadata": {
        "colab": {
          "base_uri": "https://localhost:8080/"
        },
        "id": "aNASzS80Xocp",
        "outputId": "7f012db7-b752-4a37-97e3-979f2a4c9687"
      },
      "outputs": [
        {
          "name": "stderr",
          "output_type": "stream",
          "text": [
            "/usr/local/lib/python3.7/dist-packages/sklearn/linear_model/_logistic.py:818: ConvergenceWarning: lbfgs failed to converge (status=1):\n",
            "STOP: TOTAL NO. of ITERATIONS REACHED LIMIT.\n",
            "\n",
            "Increase the number of iterations (max_iter) or scale the data as shown in:\n",
            "    https://scikit-learn.org/stable/modules/preprocessing.html\n",
            "Please also refer to the documentation for alternative solver options:\n",
            "    https://scikit-learn.org/stable/modules/linear_model.html#logistic-regression\n",
            "  extra_warning_msg=_LOGISTIC_SOLVER_CONVERGENCE_MSG,\n"
          ]
        }
      ],
      "source": [
        "# training the training data in Random Forest\n",
        "LR = LogisticRegression()\n",
        "LR.fit(x_train,y_train)\n",
        "LR_pred = LR.predict(x_test)\n",
        "\n",
        "LR_accuracy = metrics.accuracy_score(y_test,LR_pred)"
      ]
    },
    {
      "cell_type": "code",
      "execution_count": 6,
      "metadata": {
        "id": "F0k0l4a0QGOH"
      },
      "outputs": [],
      "source": [
        "# training the training data in Random Forest\n",
        "RF = RandomForestClassifier(max_depth=5)\n",
        "RF.fit(x_train,y_train)\n",
        "RF_pred = RF.predict(x_test)\n",
        "\n",
        "RF_accuracy = metrics.accuracy_score(y_test,RF_pred)"
      ]
    },
    {
      "cell_type": "code",
      "execution_count": 7,
      "metadata": {
        "id": "07hc05NIMjMf"
      },
      "outputs": [],
      "source": [
        "# training the training data in Support Vector Machine\n",
        "SVC = svm.SVC(kernel=\"linear\",C=3)\n",
        "SVC.fit(x_train,y_train)\n",
        "SVC_pred = SVC.predict(x_test)\n",
        "\n",
        "SVM_accuracy = metrics.accuracy_score(y_test,SVC_pred)"
      ]
    },
    {
      "cell_type": "markdown",
      "metadata": {
        "id": "ShORterTcyMy"
      },
      "source": [
        "# Accuracy of the 3 models"
      ]
    },
    {
      "cell_type": "code",
      "execution_count": 9,
      "metadata": {
        "colab": {
          "base_uri": "https://localhost:8080/"
        },
        "id": "tld0acNgb2eL",
        "outputId": "f1abd781-c7a9-4c7d-98d1-7caa98d88c67"
      },
      "outputs": [
        {
          "name": "stdout",
          "output_type": "stream",
          "text": [
            "Logistic Regression:  0.9736842105263158\n",
            "Random Forest:  0.9824561403508771\n",
            "Support Vector Machine:  0.9736842105263158\n"
          ]
        }
      ],
      "source": [
        "#comparing the accuracy of 3 models\n",
        "print(\"Logistic Regression: \", LR_accuracy)\n",
        "print(\"Random Forest: \", RF_accuracy)\n",
        "print(\"Support Vector Machine: \", SVM_accuracy)\n",
        "\n",
        "# in here we can see that Random Forest is the best algorithm followed by Logistic Regression and Support Vector Machine in tie score."
      ]
    }
  ],
  "metadata": {
    "colab": {
      "collapsed_sections": [
        "ikC86IFMfWRO",
        "NSAk5D-cMUcP"
      ],
      "name": "Gupo_SP901_Week2.ipynb",
      "provenance": []
    },
    "kernelspec": {
      "display_name": "Python 3",
      "name": "python3"
    },
    "language_info": {
      "codemirror_mode": {
        "name": "ipython",
        "version": 3
      },
      "file_extension": ".py",
      "mimetype": "text/x-python",
      "name": "python",
      "nbconvert_exporter": "python",
      "pygments_lexer": "ipython3",
      "version": "3.8.8"
    }
  },
  "nbformat": 4,
  "nbformat_minor": 0
}
