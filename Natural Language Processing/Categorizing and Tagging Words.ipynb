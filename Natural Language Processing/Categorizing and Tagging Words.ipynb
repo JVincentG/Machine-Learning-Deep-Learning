{
  "nbformat": 4,
  "nbformat_minor": 0,
  "metadata": {
    "colab": {
      "name": "Week14-Performance-Task-4-Laboratory-GUPO.ipynb",
      "provenance": [],
      "collapsed_sections": []
    },
    "kernelspec": {
      "name": "python3",
      "display_name": "Python 3"
    },
    "language_info": {
      "name": "python"
    }
  },
  "cells": [
    {
      "cell_type": "markdown",
      "source": [
        "I. Lab Activity </br>\n",
        "a) Get five books from Gutenberg corpus. </br>\n",
        "b) Use the following taggers on these books: a) default tagger; b) regular expression tagger (add more\n",
        "rules if you like); c) lookup tagger; d) unigram tagger; and e) mixed tagger (combination of different\n",
        "taggers using backoff). </br>\n",
        "NOTE: Use the same tagged corpus: Brow Corpus for evaluation. </br>\n",
        "c) Create graph/s comparing the accuracy of different taggers at tagging the books. </br>"
      ],
      "metadata": {
        "id": "qKCiy75Zin_p"
      }
    },
    {
      "cell_type": "markdown",
      "source": [
        "# Code Walkthrough"
      ],
      "metadata": {
        "id": "hb7XWtyajTFi"
      }
    },
    {
      "cell_type": "markdown",
      "source": [
        "## Task A."
      ],
      "metadata": {
        "id": "JUG5cY7fjVvB"
      }
    },
    {
      "cell_type": "code",
      "execution_count": null,
      "metadata": {
        "colab": {
          "base_uri": "https://localhost:8080/"
        },
        "id": "bvg2nzLqihkj",
        "outputId": "34033cb5-76f1-4de6-f3f3-a15f725c5631"
      },
      "outputs": [
        {
          "output_type": "stream",
          "name": "stderr",
          "text": [
            "[nltk_data] Downloading package gutenberg to /root/nltk_data...\n",
            "[nltk_data]   Unzipping corpora/gutenberg.zip.\n",
            "[nltk_data] Downloading package punkt to /root/nltk_data...\n",
            "[nltk_data]   Unzipping tokenizers/punkt.zip.\n",
            "[nltk_data] Downloading package brown to /root/nltk_data...\n",
            "[nltk_data]   Unzipping corpora/brown.zip.\n",
            "[nltk_data] Downloading package averaged_perceptron_tagger to\n",
            "[nltk_data]     /root/nltk_data...\n",
            "[nltk_data]   Unzipping taggers/averaged_perceptron_tagger.zip.\n"
          ]
        }
      ],
      "source": [
        "import nltk\n",
        "nltk.download('gutenberg')\n",
        "nltk.download('punkt')\n",
        "nltk.download('brown')\n",
        "nltk.download('averaged_perceptron_tagger')\n",
        "from nltk.corpus import gutenberg"
      ]
    },
    {
      "cell_type": "code",
      "source": [
        "gutenberg.fileids()"
      ],
      "metadata": {
        "colab": {
          "base_uri": "https://localhost:8080/"
        },
        "id": "zci8HzXsnsQD",
        "outputId": "36d6de53-095a-4b95-fbb2-b07acb836c0f"
      },
      "execution_count": null,
      "outputs": [
        {
          "output_type": "execute_result",
          "data": {
            "text/plain": [
              "['austen-emma.txt',\n",
              " 'austen-persuasion.txt',\n",
              " 'austen-sense.txt',\n",
              " 'bible-kjv.txt',\n",
              " 'blake-poems.txt',\n",
              " 'bryant-stories.txt',\n",
              " 'burgess-busterbrown.txt',\n",
              " 'carroll-alice.txt',\n",
              " 'chesterton-ball.txt',\n",
              " 'chesterton-brown.txt',\n",
              " 'chesterton-thursday.txt',\n",
              " 'edgeworth-parents.txt',\n",
              " 'melville-moby_dick.txt',\n",
              " 'milton-paradise.txt',\n",
              " 'shakespeare-caesar.txt',\n",
              " 'shakespeare-hamlet.txt',\n",
              " 'shakespeare-macbeth.txt',\n",
              " 'whitman-leaves.txt']"
            ]
          },
          "metadata": {},
          "execution_count": 2
        }
      ]
    },
    {
      "cell_type": "code",
      "source": [
        "emma_romance = nltk.corpus.gutenberg.words('austen-emma.txt')\n",
        "alice_fiction = nltk.corpus.gutenberg.words('carroll-alice.txt')\n",
        "paradise_biblical = nltk.corpus.gutenberg.words('milton-paradise.txt')\n",
        "hamlet_drama = nltk.corpus.gutenberg.words('shakespeare-hamlet.txt')\n",
        "leaves_poetry = nltk.corpus.gutenberg.words('whitman-leaves.txt')\n",
        "books = [emma_romance,alice_fiction,paradise_biblical,hamlet_drama,leaves_poetry]"
      ],
      "metadata": {
        "id": "0j2fbJHzrQd8"
      },
      "execution_count": null,
      "outputs": []
    },
    {
      "cell_type": "markdown",
      "source": [
        "## Task B."
      ],
      "metadata": {
        "id": "xdMmM8yajYR5"
      }
    },
    {
      "cell_type": "markdown",
      "source": [
        "**Making a baseline of 5 books based on unigram tagger.**"
      ],
      "metadata": {
        "id": "ahhsmfMxULzs"
      }
    },
    {
      "cell_type": "code",
      "source": [
        "from nltk.corpus import brown\n",
        "def tag_baseline(book):\n",
        "  brown_tagged_sents = brown.tagged_sents(categories='news')\n",
        "  brown_sents = brown.sents(categories='news')\n",
        "  unigram_tagger = nltk.UnigramTagger(brown_tagged_sents)\n",
        "  book = unigram_tagger.tag(book)\n",
        "  unigram_tagger.accuracy([book])\n",
        "  return unigram_tagger\n",
        "\n",
        "\n",
        "baseline_emma = tag_baseline(emma_romance)\n",
        "baseline_alice = tag_baseline(alice_fiction)\n",
        "baseline_paradise = tag_baseline(paradise_biblical)\n",
        "baseline_hamlet = tag_baseline(hamlet_drama)\n",
        "baseline_leaves = tag_baseline(leaves_poetry)\n",
        "\n",
        "def tagged_books(book):\n",
        "  brown_tagged_sents = brown.tagged_sents(categories='news')\n",
        "  brown_sents = brown.sents(categories='news')\n",
        "  unigram_tagger = nltk.UnigramTagger(brown_tagged_sents)\n",
        "  book = unigram_tagger.tag(book)\n",
        "  return book\n",
        "\n",
        "tagged_emma = tagged_books(emma_romance)\n",
        "tagged_alice = tagged_books(alice_fiction)\n",
        "tagged_paradise = tagged_books(paradise_biblical)\n",
        "tagged_hamlet = tagged_books(hamlet_drama)\n",
        "tagged_leaves = tagged_books(leaves_poetry)"
      ],
      "metadata": {
        "id": "vKlXLOkF6BXa"
      },
      "execution_count": null,
      "outputs": []
    },
    {
      "cell_type": "markdown",
      "source": [
        "**Default Tagger**"
      ],
      "metadata": {
        "id": "8tm-bOBVw-Rk"
      }
    },
    {
      "cell_type": "code",
      "source": [
        "def default_tagger(book):\n",
        "  default_tagger = nltk.DefaultTagger('NN')\n",
        "  tag = default_tagger.tag(book)\n",
        "  return tag\n",
        "\n",
        "DT_emma = baseline_emma.accuracy([default_tagger(emma_romance)])\n",
        "DT_alice = baseline_alice.accuracy([default_tagger(alice_fiction)])\n",
        "DT_paradise = baseline_paradise.accuracy([default_tagger(paradise_biblical)])\n",
        "DT_hamlet = baseline_hamlet.accuracy([default_tagger(hamlet_drama)])\n",
        "DT_leaves = baseline_leaves.accuracy([default_tagger(leaves_poetry)])"
      ],
      "metadata": {
        "id": "1Y6LKHcwxEs0"
      },
      "execution_count": null,
      "outputs": []
    },
    {
      "cell_type": "code",
      "source": [
        "print(\"Accuracy for the book Emma using Default tagger is     \" + str(DT_emma))\n",
        "print(\"Accuracy for the book Alice using Default tagger is    \" + str(DT_alice))\n",
        "print(\"Accuracy for the book Paradise using Default tagger is \" + str(DT_paradise))\n",
        "print(\"Accuracy for the book Hamlet using Default tagger is   \" + str(DT_hamlet))\n",
        "print(\"Accuracy for the book Leaves using Default tagger is   \" + str(DT_leaves))"
      ],
      "metadata": {
        "colab": {
          "base_uri": "https://localhost:8080/"
        },
        "id": "DvRg0R29oDEo",
        "outputId": "3c6f8c31-8abf-4ff1-884c-65b2a50b9dfa"
      },
      "execution_count": null,
      "outputs": [
        {
          "output_type": "stream",
          "name": "stdout",
          "text": [
            "Accuracy for the book Emma using Default tagger is     0.07427751822769155\n",
            "Accuracy for the book Alice using Default tagger is    0.06068601583113457\n",
            "Accuracy for the book Paradise using Default tagger is 0.07795507358636716\n",
            "Accuracy for the book Hamlet using Default tagger is   0.03800856531049251\n",
            "Accuracy for the book Leaves using Default tagger is   0.08268822272295862\n"
          ]
        }
      ]
    },
    {
      "cell_type": "markdown",
      "source": [
        "**Regular Expression Tagger**"
      ],
      "metadata": {
        "id": "N7zSCzKq2kLX"
      }
    },
    {
      "cell_type": "code",
      "source": [
        "def regular_expression_tagger(book):\n",
        "  patterns = [\n",
        "  (r'.*ing$', 'VBG'),                # gerunds\n",
        "  (r'.*ed$', 'VBD'),                 # simple past\n",
        "  (r'.*es$', 'VBZ'),                 # 3rd singular present\n",
        "  (r'.*ould$', 'MD'),                # modals\n",
        "  (r'.*\\'s$', 'NN$'),                # possessive nouns\n",
        "  (r'.*s$', 'NNS'),                  # plural nouns\n",
        "  (r'^-?[0-9]+(\\.[0-9]+)?$', 'CD'),  # cardinal numbers\n",
        "  (r'.*', 'NN')                      # nouns (default)\n",
        "  ]\n",
        "  regexp_tagger = nltk.RegexpTagger(patterns)\n",
        "  regex_tag = regexp_tagger.tag(book)\n",
        "  return regex_tag\n",
        "\n",
        "RX_emma = baseline_emma.accuracy([regular_expression_tagger(emma_romance)])\n",
        "RX_alice = baseline_alice.accuracy([regular_expression_tagger(alice_fiction)])\n",
        "RX_paradise = baseline_paradise.accuracy([regular_expression_tagger(paradise_biblical)])\n",
        "RX_hamlet = baseline_hamlet.accuracy([regular_expression_tagger(hamlet_drama)])\n",
        "RX_leaves = baseline_leaves.accuracy([regular_expression_tagger(leaves_poetry)])"
      ],
      "metadata": {
        "id": "D42SoXMu2jVh"
      },
      "execution_count": null,
      "outputs": []
    },
    {
      "cell_type": "code",
      "source": [
        "print(\"Accuracy for the book Emma using Regular Expression tagger is     \" + str(RX_emma))\n",
        "print(\"Accuracy for the book Alice using Regular Expression tagger is    \" + str(RX_alice))\n",
        "print(\"Accuracy for the book Paradise using Regular Expression tagger is \" + str(RX_paradise))\n",
        "print(\"Accuracy for the book Hamlet using Regular Expression tagger is   \" + str(RX_hamlet))\n",
        "print(\"Accuracy for the book Leaves using Regular Expression tagger is   \" + str(RX_leaves))"
      ],
      "metadata": {
        "colab": {
          "base_uri": "https://localhost:8080/"
        },
        "id": "1MuPq8GOC_kj",
        "outputId": "a74aa95b-6809-4e65-e9f7-e1016f0198b6"
      },
      "execution_count": null,
      "outputs": [
        {
          "output_type": "stream",
          "name": "stdout",
          "text": [
            "Accuracy for the book Emma using Regular Expression tagger is     0.10263632442432714\n",
            "Accuracy for the book Alice using Regular Expression tagger is    0.09337437701553797\n",
            "Accuracy for the book Paradise using Regular Expression tagger is 0.1040846888716757\n",
            "Accuracy for the book Hamlet using Regular Expression tagger is   0.047724839400428265\n",
            "Accuracy for the book Leaves using Regular Expression tagger is   0.11601660608330158\n"
          ]
        }
      ]
    },
    {
      "cell_type": "markdown",
      "source": [
        "**POS Tag**"
      ],
      "metadata": {
        "id": "D1wxpIn2tLNZ"
      }
    },
    {
      "cell_type": "code",
      "source": [
        "def pos_tag(book):\n",
        "  pos_t = nltk.pos_tag(book)\n",
        "  return pos_t\n",
        "\n",
        "PT_emma = baseline_emma.accuracy([pos_tag(emma_romance)])\n",
        "PT_alice = baseline_alice.accuracy([pos_tag(alice_fiction)])\n",
        "PT_paradise = baseline_paradise.accuracy([pos_tag(paradise_biblical)])\n",
        "PT_hamlet = baseline_hamlet.accuracy([pos_tag(hamlet_drama)])\n",
        "PT_leaves = baseline_leaves.accuracy([pos_tag(leaves_poetry)])"
      ],
      "metadata": {
        "id": "3Fqyi447tNEw"
      },
      "execution_count": null,
      "outputs": []
    },
    {
      "cell_type": "code",
      "source": [
        "print(\"Accuracy for the book Emma using POS tagger is     \" + str(PT_emma))\n",
        "print(\"Accuracy for the book Alice using POS tagger is    \" + str(PT_alice))\n",
        "print(\"Accuracy for the book Paradise using POS tagger is \" + str(PT_paradise))\n",
        "print(\"Accuracy for the book Hamlet using POS tagger is   \" + str(PT_hamlet))\n",
        "print(\"Accuracy for the book Leaves using POS tagger is   \" + str(PT_leaves))"
      ],
      "metadata": {
        "colab": {
          "base_uri": "https://localhost:8080/"
        },
        "id": "hv9eqb9ptv7K",
        "outputId": "b736ed0b-ee3b-4d86-b2cb-3747b277b4d2"
      },
      "execution_count": null,
      "outputs": [
        {
          "output_type": "stream",
          "name": "stdout",
          "text": [
            "Accuracy for the book Emma using POS tagger is     0.4696378366861199\n",
            "Accuracy for the book Alice using POS tagger is    0.43550278510700674\n",
            "Accuracy for the book Paradise using POS tagger is 0.48775626129615285\n",
            "Accuracy for the book Hamlet using POS tagger is   0.3884100642398287\n",
            "Accuracy for the book Leaves using POS tagger is   0.4788130395201539\n"
          ]
        }
      ]
    },
    {
      "cell_type": "markdown",
      "source": [
        "**Lookup Tagger**"
      ],
      "metadata": {
        "id": "oYzWrM2PATAO"
      }
    },
    {
      "cell_type": "code",
      "source": [
        "def lookup_tagger(book,tagged_book):\n",
        "  fd = nltk.FreqDist(book)\n",
        "  cfd = nltk.ConditionalFreqDist(tagged_book)\n",
        "  most_freq_words = fd.most_common(100)\n",
        "  likely_tags = dict((word, cfd[word].max()) for (word, _) in most_freq_words)\n",
        "  baseline_tagger = nltk.UnigramTagger(model=likely_tags)\n",
        "  baseline_tagger = baseline_tagger.tag(book)\n",
        "  return baseline_tagger\n",
        "\n",
        "LT_emma = baseline_emma.accuracy([lookup_tagger(emma_romance,tagged_emma)])\n",
        "LT_alice = baseline_alice.accuracy([lookup_tagger(alice_fiction,tagged_alice)])\n",
        "LT_paradise = baseline_paradise.accuracy([lookup_tagger(paradise_biblical,tagged_paradise)])\n",
        "LT_hamlet = baseline_hamlet.accuracy([lookup_tagger(hamlet_drama,tagged_hamlet)])\n",
        "LT_leaves = baseline_leaves.accuracy([lookup_tagger(leaves_poetry,tagged_leaves)])"
      ],
      "metadata": {
        "id": "n9rFTJUNAaFR"
      },
      "execution_count": null,
      "outputs": []
    },
    {
      "cell_type": "code",
      "source": [
        "print(\"Accuracy for the book Emma using Lookup tagger is     \" + str(LT_emma))\n",
        "print(\"Accuracy for the book Alice using Lookup tagger is    \" + str(LT_alice))\n",
        "print(\"Accuracy for the book Paradise using Lookup tagger is \" + str(LT_paradise))\n",
        "print(\"Accuracy for the book Hamlet using Lookup tagger is   \" + str(LT_hamlet))\n",
        "print(\"Accuracy for the book Leaves using Lookup tagger is   \" + str(LT_leaves))"
      ],
      "metadata": {
        "colab": {
          "base_uri": "https://localhost:8080/"
        },
        "id": "JYQk1uL0JiQn",
        "outputId": "a7273fe5-045c-4526-84df-62bae3e053ea"
      },
      "execution_count": null,
      "outputs": [
        {
          "output_type": "stream",
          "name": "stdout",
          "text": [
            "Accuracy for the book Emma using Lookup tagger is     0.6963783668611994\n",
            "Accuracy for the book Alice using Lookup tagger is    0.723570800351803\n",
            "Accuracy for the book Paradise using Lookup tagger is 0.7098270074877356\n",
            "Accuracy for the book Hamlet using Lookup tagger is   0.809154175588865\n",
            "Accuracy for the book Leaves using Lookup tagger is   0.7172317168443276\n"
          ]
        }
      ]
    },
    {
      "cell_type": "markdown",
      "source": [
        "## Task C."
      ],
      "metadata": {
        "id": "CRp9d93Ljaa5"
      }
    },
    {
      "cell_type": "markdown",
      "source": [
        "**Default Tagger**"
      ],
      "metadata": {
        "id": "DFTicrB3KJ-8"
      }
    },
    {
      "cell_type": "code",
      "source": [
        "#@title\n",
        "import matplotlib.pyplot as plt\n",
        "y=['Emma', 'Alice', 'Paradise', 'Hamlet', 'Leaves']\n",
        "\n",
        "# getting values against each value of y\n",
        "x=[DT_emma,DT_alice,DT_paradise,DT_hamlet,DT_leaves]\n",
        "multiplied_list = [element * 100 for element in x]\n",
        "plt.barh(y, multiplied_list)\n",
        " \n",
        "# setting label of y-axis\n",
        "plt.ylabel(\"Books\")\n",
        "plt.xlim(left=0, right=100)\n",
        "\n",
        "# setting label of x-axis\n",
        "plt.xlabel(\"Accuracy\")\n",
        "plt.title(\"Default Tagger\")\n",
        "plt.show()"
      ],
      "metadata": {
        "id": "AiKUXV9xjccB",
        "colab": {
          "base_uri": "https://localhost:8080/",
          "height": 295
        },
        "outputId": "2cfe7da8-247c-4cee-92ae-44d9511e6621",
        "cellView": "form"
      },
      "execution_count": null,
      "outputs": [
        {
          "output_type": "display_data",
          "data": {
            "text/plain": [
              "<Figure size 432x288 with 1 Axes>"
            ],
            "image/png": "[encoded data removed]"
          },
          "metadata": {
            "needs_background": "light"
          }
        }
      ]
    },
    {
      "cell_type": "markdown",
      "source": [
        "**Paradise has the highest accuracy among all books, it seems that it is the book that has the highest word that has a type of noun mentioned. We can also see the ineffectiveness of default tagger in tagging the book.**"
      ],
      "metadata": {
        "id": "Q-2OBV9Xjn_n"
      }
    },
    {
      "cell_type": "markdown",
      "source": [
        "**Regular Expression Tagger**"
      ],
      "metadata": {
        "id": "M4eBXqEzMeVz"
      }
    },
    {
      "cell_type": "code",
      "source": [
        "#@title\n",
        "y=['Emma', 'Alice', 'Paradise', 'Hamlet', 'Leaves']\n",
        "\n",
        "# getting values against each value of y\n",
        "x=[RX_emma,RX_alice,RX_paradise,RX_hamlet,RX_leaves]\n",
        "multiplied_list = [element * 100 for element in x]\n",
        "plt.barh(y, multiplied_list)\n",
        " \n",
        "# setting label of y-axis\n",
        "plt.ylabel(\"Books\")\n",
        "plt.xlim(left=0, right=100)\n",
        "\n",
        "# setting label of x-axis\n",
        "plt.xlabel(\"Accuracy\")\n",
        "plt.title(\"Regular Expression Tagger\")\n",
        "plt.show()"
      ],
      "metadata": {
        "colab": {
          "base_uri": "https://localhost:8080/",
          "height": 295
        },
        "id": "QpDMSIS_Mi0c",
        "outputId": "31a707df-0f4a-4244-e90c-4b26101c3818",
        "cellView": "form"
      },
      "execution_count": null,
      "outputs": [
        {
          "output_type": "display_data",
          "data": {
            "text/plain": [
              "<Figure size 432x288 with 1 Axes>"
            ],
            "image/png": "[encoded data removed]"
          },
          "metadata": {
            "needs_background": "light"
          }
        }
      ]
    },
    {
      "cell_type": "markdown",
      "source": [
        "**Leaves has the highest accuracy among all books using the regular expression tagger. It seems like the pattern in the RegEx tagger is more suitable on poetry type of books. However, the accuracy is still very low and there is not much improvement compared to the default tagger.**"
      ],
      "metadata": {
        "id": "DasWPvd2j7uP"
      }
    },
    {
      "cell_type": "markdown",
      "source": [
        "**POS Tagger**"
      ],
      "metadata": {
        "id": "3t6kDyvmuUO5"
      }
    },
    {
      "cell_type": "code",
      "source": [
        "#@title\n",
        "y=['Emma', 'Alice', 'Paradise', 'Hamlet', 'Leaves']\n",
        "\n",
        "# getting values against each value of y\n",
        "x=[PT_emma,PT_alice,PT_paradise,PT_hamlet,PT_leaves]\n",
        "multiplied_list = [element * 100 for element in x]\n",
        "plt.barh(y, multiplied_list)\n",
        " \n",
        "# setting label of y-axis\n",
        "plt.ylabel(\"Books\")\n",
        "plt.xlim(left=0, right=100)\n",
        "\n",
        "# setting label of x-axis\n",
        "plt.xlabel(\"Accuracy\")\n",
        "plt.title(\"POS Tagger\")\n",
        "plt.show()"
      ],
      "metadata": {
        "id": "WQv4IGaAuWTI",
        "outputId": "57e1e250-45bd-4fee-a9c1-4245686938a3",
        "colab": {
          "base_uri": "https://localhost:8080/",
          "height": 295
        },
        "cellView": "form"
      },
      "execution_count": null,
      "outputs": [
        {
          "output_type": "display_data",
          "data": {
            "text/plain": [
              "<Figure size 432x288 with 1 Axes>"
            ],
            "image/png": "[encoded data removed]"
          },
          "metadata": {
            "needs_background": "light"
          }
        }
      ]
    },
    {
      "cell_type": "markdown",
      "source": [
        "**Emma, Paradise, and Leaves has the best accuracy using the POS tagger while Hamlet is at the last place since it has a different structure of storytelling since the story comes in first person. Part of Speech tagger's accuracy also made a huge gain compared to default and regular expression taggers but it is still not the best since it only has an average of 50%. Luckily, we still have the Lookup Tagger to compared on which the results will be seen at the next figure.**"
      ],
      "metadata": {
        "id": "YvWte6FHqD6q"
      }
    },
    {
      "cell_type": "markdown",
      "source": [
        "**Lookup Tagger**"
      ],
      "metadata": {
        "id": "JDaSxh9HMrGt"
      }
    },
    {
      "cell_type": "code",
      "source": [
        "#@title\n",
        "y=['Emma', 'Alice', 'Paradise', 'Hamlet', 'Leaves']\n",
        "\n",
        "# getting values against each value of y\n",
        "x=[LT_emma,LT_alice,LT_paradise,LT_hamlet,LT_leaves]\n",
        "multiplied_list = [element * 100 for element in x]\n",
        "plt.barh(y, multiplied_list)\n",
        " \n",
        "# setting label of y-axis\n",
        "plt.ylabel(\"Books\")\n",
        "plt.xlim(left=0, right=100)\n",
        "\n",
        "# setting label of x-axis\n",
        "plt.xlabel(\"Accuracy\")\n",
        "plt.title(\"Lookup Tagger\")\n",
        "plt.show()"
      ],
      "metadata": {
        "colab": {
          "base_uri": "https://localhost:8080/",
          "height": 295
        },
        "id": "e9kc14XiMtk8",
        "outputId": "a1ce4967-dd36-46f5-a468-c77938516a32",
        "cellView": "form"
      },
      "execution_count": null,
      "outputs": [
        {
          "output_type": "display_data",
          "data": {
            "text/plain": [
              "<Figure size 432x288 with 1 Axes>"
            ],
            "image/png": "[encoded data removed]"
          },
          "metadata": {
            "needs_background": "light"
          }
        }
      ]
    },
    {
      "cell_type": "markdown",
      "source": [
        "**The result of the lookup tagger is opposite compared to the POS tagger since Hamlet have the best accuracy using lookup tagger. It seems that Hamlet has many similar tags with the frequent words compared to other books. Overall, lookup tagger has an average of 73% on all the books. This concludes that lookup tagger is the best tagger among all tagger based on this study. But i still think that the lookup tagger is quite inefficient since it requires the tagged version of the book to be tagged on in order to do the tagging. What's the point of tagging a book if there is already a tagged version of it.**"
      ],
      "metadata": {
        "id": "WhrNok2Qkqff"
      }
    }
  ]
}