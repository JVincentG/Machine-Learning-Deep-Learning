{
  "nbformat": 4,
  "nbformat_minor": 0,
  "metadata": {
    "colab": {
      "name": "Week05-Performance-Task-2-Laboratory-GUPO.ipynb",
      "provenance": [],
      "collapsed_sections": []
    },
    "kernelspec": {
      "name": "python3",
      "display_name": "Python 3"
    },
    "language_info": {
      "name": "python"
    }
  },
  "cells": [
    {
      "cell_type": "markdown",
      "source": [
        "A. Lab and Lecture Activity </br>\n",
        "a. Import WordNet in Jupyter Notebook using NLTK and look for the synonyms of ‘use’ found in synset(‘use.n.01’) </br>\n",
        "b. List down all the similar words for the word ‘use’ as specified in (a) </br>\n",
        "c. Create your own corpus from the Gutenberg site. Select at least 10 books from different genres. </br>\n",
        "d. Load the books in Jupyter Notebook as a corpus </br>\n",
        "e. Use your created corpus to tabulate all the occurrences of each word obtained in (b) per book. </br>\n",
        "f. Plot all the occurrences of the mentioned words. The graph must only include strictly the words obtained in (b) in lower case. This means that ‘Use’ and ‘use’ are different words. Include only the lower-cased word. </br>\n",
        "g. Discuss your results and findings."
      ],
      "metadata": {
        "id": "yYEskNFPgL0Y"
      }
    },
    {
      "cell_type": "markdown",
      "source": [
        "# Code Walkthrough"
      ],
      "metadata": {
        "id": "km8WhZ12hQyy"
      }
    },
    {
      "cell_type": "code",
      "execution_count": null,
      "metadata": {
        "colab": {
          "base_uri": "https://localhost:8080/"
        },
        "id": "4SntY81Wfo0w",
        "outputId": "79836efc-face-4d79-8cc4-dfe436ed5fe9"
      },
      "outputs": [
        {
          "output_type": "stream",
          "name": "stdout",
          "text": [
            "Requirement already satisfied: nltk in /usr/local/lib/python3.7/dist-packages (3.2.5)\n",
            "Requirement already satisfied: six in /usr/local/lib/python3.7/dist-packages (from nltk) (1.15.0)\n"
          ]
        }
      ],
      "source": [
        "pip install nltk"
      ]
    },
    {
      "cell_type": "code",
      "source": [
        "import nltk\n",
        "nltk.download('wordnet')\n",
        "from nltk.corpus import wordnet as wn"
      ],
      "metadata": {
        "colab": {
          "base_uri": "https://localhost:8080/"
        },
        "id": "Mz2XM-UMgKfJ",
        "outputId": "67299d90-e916-43e3-e93b-41aa4dac75a2"
      },
      "execution_count": null,
      "outputs": [
        {
          "output_type": "stream",
          "name": "stdout",
          "text": [
            "[nltk_data] Downloading package wordnet to /root/nltk_data...\n",
            "[nltk_data]   Unzipping corpora/wordnet.zip.\n"
          ]
        }
      ]
    },
    {
      "cell_type": "markdown",
      "source": [
        "## Task A."
      ],
      "metadata": {
        "id": "PGc6NXbuhduH"
      }
    },
    {
      "cell_type": "code",
      "source": [
        "from nltk.corpus import wordnet as wn\n",
        "print (wn.synsets('use'))\n",
        "print([(str(lemma.name())) for lemma in wn.synset('use.n.01').lemmas()])"
      ],
      "metadata": {
        "colab": {
          "base_uri": "https://localhost:8080/"
        },
        "id": "ynJYhHusigFZ",
        "outputId": "6f871e43-e721-42f8-96af-d59ef8dc2778"
      },
      "execution_count": null,
      "outputs": [
        {
          "output_type": "stream",
          "name": "stdout",
          "text": [
            "[Synset('use.n.01'), Synset('function.n.02'), Synset('use.n.03'), Synset('consumption.n.03'), Synset('habit.n.02'), Synset('manipulation.n.01'), Synset('use.n.07'), Synset('use.v.01'), Synset('use.v.02'), Synset('use.v.03'), Synset('use.v.04'), Synset('practice.v.04'), Synset('use.v.06')]\n",
            "['use', 'usage', 'utilization', 'utilisation', 'employment', 'exercise']\n"
          ]
        }
      ]
    },
    {
      "cell_type": "markdown",
      "source": [
        "**There are different synsets of the word use. 13 to be exact.** </br>\n",
        "**There are 5 synonyms of use on 'use.n.01'. These are usage, utilization, utilisation, employment, and exercise.**"
      ],
      "metadata": {
        "id": "LkwDkngyjEnO"
      }
    },
    {
      "cell_type": "markdown",
      "source": [
        "## Task B"
      ],
      "metadata": {
        "id": "Kkv9R8rLmSsn"
      }
    },
    {
      "cell_type": "code",
      "source": [
        "wordlist = ['use', 'usage', 'utilization', 'utilisation', 'employment', 'exercise']"
      ],
      "metadata": {
        "colab": {
          "base_uri": "https://localhost:8080/"
        },
        "id": "Idpqh28OntyH",
        "outputId": "3fca8598-5871-428b-f035-3bac13fb129a"
      },
      "execution_count": null,
      "outputs": [
        {
          "output_type": "execute_result",
          "data": {
            "text/plain": [
              "['use', 'usage', 'utilization', 'utilisation', 'employment', 'exercise']"
            ]
          },
          "metadata": {},
          "execution_count": 4
        }
      ]
    },
    {
      "cell_type": "markdown",
      "source": [
        "**The synonyms of use is being assigned as a list with a variable wordlist that will be used for tasks E and F.**"
      ],
      "metadata": {
        "id": "xPAup1cmjPsk"
      }
    },
    {
      "cell_type": "markdown",
      "source": [
        "## Task C"
      ],
      "metadata": {
        "id": "W6_MyzL-rtqF"
      }
    },
    {
      "cell_type": "markdown",
      "source": [
        "**10 books was downloaded from the gutenberg site and was used in task D.**"
      ],
      "metadata": {
        "id": "cWQQx3FVknJ-"
      }
    },
    {
      "cell_type": "markdown",
      "source": [
        "## Task D"
      ],
      "metadata": {
        "id": "DWZjyRZbs2KL"
      }
    },
    {
      "cell_type": "code",
      "source": [
        "from nltk.corpus import PlaintextCorpusReader"
      ],
      "metadata": {
        "id": "XrnSXvNEuCND"
      },
      "execution_count": null,
      "outputs": []
    },
    {
      "cell_type": "code",
      "source": [
        "books = \"/content/drive/MyDrive/Books\"\n",
        "booklist = PlaintextCorpusReader(books,\".*\")\n",
        "booklist.fileids()"
      ],
      "metadata": {
        "id": "JEm6yLMF_-CX",
        "colab": {
          "base_uri": "https://localhost:8080/"
        },
        "outputId": "67a6bca2-74ef-4526-9b6a-464d5f6ce98d"
      },
      "execution_count": null,
      "outputs": [
        {
          "output_type": "execute_result",
          "data": {
            "text/plain": [
              "['Don Quixote by Miguel de Cervantes Saavedra.txt',\n",
              " 'Le grand secret by Maurice Maeterlinck.txt',\n",
              " 'The Adventures of Sherlock Holmes by Arthur Conan Doyle.txt',\n",
              " 'The Ghost of One Man Coulee by B. M. Bower.txt',\n",
              " 'The Lone Trail by Luke Allan.txt',\n",
              " 'The Reign of Greed by Jose Rizal.txt',\n",
              " 'The Samovar Girl by Frederick F. Moore.txt',\n",
              " 'The Time Machine by H. G. Wells.txt',\n",
              " 'Ulysses by James Joyce.txt',\n",
              " 'Wuthering Heights by Emily Bronte.txt']"
            ]
          },
          "metadata": {},
          "execution_count": 6
        }
      ]
    },
    {
      "cell_type": "markdown",
      "source": [
        "**Above are the list of the books that was downloaded and will be used for tasks E and F.**"
      ],
      "metadata": {
        "id": "4fE2n61gk0XA"
      }
    },
    {
      "cell_type": "markdown",
      "source": [
        "## Task E"
      ],
      "metadata": {
        "id": "oN8xPYpls2Rr"
      }
    },
    {
      "cell_type": "code",
      "source": [
        "cfd = nltk.ConditionalFreqDist(\n",
        "    (fileid,word)\n",
        "    for fileid in booklist.fileids()\n",
        "    for word in booklist.words(fileid)\n",
        ")\n",
        "\n",
        "books = ['Don Quixote by Miguel de Cervantes Saavedra.txt',\n",
        " 'Le grand secret by Maurice Maeterlinck.txt',\n",
        " 'The Adventures of Sherlock Holmes by Arthur Conan Doyle.txt',\n",
        " 'The Ghost of One Man Coulee by B. M. Bower.txt',\n",
        " 'The Lone Trail by Luke Allan.txt',\n",
        " 'The Reign of Greed by Jose Rizal.txt',\n",
        " 'The Samovar Girl by Frederick F. Moore.txt',\n",
        " 'The Time Machine by H. G. Wells.txt',\n",
        " 'Ulysses by James Joyce.txt',\n",
        " 'Wuthering Heights by Emily Bronte.txt']\n",
        "\n"
      ],
      "metadata": {
        "id": "FLqKO_OEuCqD"
      },
      "execution_count": null,
      "outputs": []
    },
    {
      "cell_type": "code",
      "source": [
        "cfd.tabulate(conditions=books,samples=wordlist)"
      ],
      "metadata": {
        "colab": {
          "base_uri": "https://localhost:8080/"
        },
        "id": "FKwmEBIwTM6X",
        "outputId": "db5a95df-808a-426a-97c9-72558bd80ba8"
      },
      "execution_count": null,
      "outputs": [
        {
          "output_type": "stream",
          "name": "stdout",
          "text": [
            "                                                                    use       usage utilization utilisation  employment    exercise \n",
            "            Don Quixote by Miguel de Cervantes Saavedra.txt          76          11           0           0           6           8 \n",
            "                 Le grand secret by Maurice Maeterlinck.txt          19           1           0           1           0           0 \n",
            "The Adventures of Sherlock Holmes by Arthur Conan Doyle.txt          44           1           0           0           1           2 \n",
            "             The Ghost of One Man Coulee by B. M. Bower.txt          12           0           0           0           0           0 \n",
            "                           The Lone Trail by Luke Allan.txt          25           0           0           0           0           6 \n",
            "                       The Reign of Greed by Jose Rizal.txt          41           0           0           0           0           2 \n",
            "                 The Samovar Girl by Frederick F. Moore.txt          28           0           0           0           0           0 \n",
            "                        The Time Machine by H. G. Wells.txt          17           0           0           0           0           0 \n",
            "                                 Ulysses by James Joyce.txt          49           2           0           1           2           4 \n",
            "                      Wuthering Heights by Emily Bronte.txt          32           1           0           0           4           2 \n"
          ]
        }
      ]
    },
    {
      "cell_type": "markdown",
      "source": [
        "**We can see the breakdown of the occurences of words per book above. the word utilization didn't occur in any of the books while the word use is used the most (no pun intended) all throughout 10 books.**"
      ],
      "metadata": {
        "id": "4Ar2YLsBk89t"
      }
    },
    {
      "cell_type": "markdown",
      "source": [
        "## Task F"
      ],
      "metadata": {
        "id": "YxnuxZbK_mxL"
      }
    },
    {
      "cell_type": "code",
      "source": [
        "cfd = nltk.ConditionalFreqDist(\n",
        "    (target,word)\n",
        "    for fileid in booklist.fileids()\n",
        "      for word in booklist.words(fileid)\n",
        "        for target in wordlist\n",
        "          if word == target\n",
        ")\n",
        "cfd.plot()"
      ],
      "metadata": {
        "id": "IR4V7ebu_piX",
        "colab": {
          "base_uri": "https://localhost:8080/",
          "height": 332
        },
        "outputId": "daf08550-9f89-407f-a939-f0c6e0950561"
      },
      "execution_count": null,
      "outputs": [
        {
          "output_type": "display_data",
          "data": {
            "text/plain": [
              "<Figure size 432x288 with 1 Axes>"
            ],
            "image/png": "[encoded data removed]"
          },
          "metadata": {
            "needs_background": "light"
          }
        }
      ]
    },
    {
      "cell_type": "markdown",
      "source": [
        "**Here is the graph version of the occurences of the words. Y axis pertains to the number of occurences while the X axis pertains to the words that is searched. We can see that the word 'utilization' is not here since it has 0 occurences in all books.**"
      ],
      "metadata": {
        "id": "Xk91QzfUl-hV"
      }
    }
  ]
}