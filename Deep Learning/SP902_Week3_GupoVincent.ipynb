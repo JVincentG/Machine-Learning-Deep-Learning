{
  "nbformat": 4,
  "nbformat_minor": 0,
  "metadata": {
    "colab": {
      "name": "SP902_Week3_GupoVincent.ipynb",
      "provenance": []
    },
    "kernelspec": {
      "name": "python3",
      "display_name": "Python 3"
    },
    "language_info": {
      "name": "python"
    }
  },
  "cells": [
    {
      "cell_type": "code",
      "execution_count": 2,
      "metadata": {
        "id": "kGwBN3iozhmG"
      },
      "outputs": [],
      "source": [
        "import tensorflow as tf\n",
        "import keras"
      ]
    },
    {
      "cell_type": "code",
      "source": [
        "#prepping the data\n",
        "from keras.datasets import reuters\n",
        "from keras.preprocessing import sequence\n",
        "import keras\n",
        "import keras.utils\n",
        "from keras.utils.np_utils import to_categorical\n",
        "\n",
        "max_features = 10000  # number of words to consider as features\n",
        "maxlen = 500  # cut texts after this number of words (among top max_features most common words)\n",
        "batch_size = 32\n",
        "\n",
        "print('Loading data...')\n",
        "(input_train, y_train), (input_test, y_test) = reuters.load_data(num_words=max_features)\n",
        "print(len(input_train), 'train sequences')\n",
        "print(len(input_test), 'test sequences')\n",
        "\n",
        "print('Pad sequences (samples x time)')\n",
        "input_train = sequence.pad_sequences(input_train, maxlen=maxlen)\n",
        "input_test = sequence.pad_sequences(input_test, maxlen=maxlen)\n",
        "print('input_train shape:', input_train.shape)\n",
        "print('input_test shape:', input_test.shape)\n",
        "\n",
        "#one hot encode labes\n",
        "one_hot_train_labels = to_categorical(y_train)\n",
        "one_hot_test_labels = to_categorical(y_test)\n",
        "\n",
        "#train test\n",
        "partial_x_train = input_train\n",
        "\n",
        "partial_y_train = one_hot_train_labels\n",
        "\n",
        "#train test\n",
        "x_test = input_test\n",
        "\n",
        "y_test = one_hot_test_labels"
      ],
      "metadata": {
        "colab": {
          "base_uri": "https://localhost:8080/"
        },
        "id": "4YhVqPcz6gao",
        "outputId": "ca29f888-e39c-4323-a926-1d02c428e0f1"
      },
      "execution_count": 37,
      "outputs": [
        {
          "output_type": "stream",
          "name": "stdout",
          "text": [
            "Loading data...\n",
            "8982 train sequences\n",
            "2246 test sequences\n",
            "Pad sequences (samples x time)\n",
            "input_train shape: (8982, 500)\n",
            "input_test shape: (2246, 500)\n"
          ]
        }
      ]
    },
    {
      "cell_type": "code",
      "source": [
        "#fitting the model\n",
        "from keras.layers import Dense\n",
        "from keras.layers import LSTM\n",
        "from keras.models import Sequential\n",
        "from keras import layers\n",
        "from keras.layers import Embedding,SimpleRNN\n",
        "\n",
        "model = Sequential()\n",
        "model.add(Embedding(max_features, 100))\n",
        "model.add(SimpleRNN(32, return_sequences=True))\n",
        "model.add(SimpleRNN(32, return_sequences=True))\n",
        "model.add(SimpleRNN(32, return_sequences=True))\n",
        "model.add(LSTM(32))\n",
        "model.add(layers.Dropout(0.5))\n",
        "model.add(Dense(46, activation='softmax'))\n",
        "\n",
        "model.compile(optimizer='rmsprop', loss='categorical_crossentropy', metrics=['acc'])\n",
        "history = model.fit(partial_x_train, partial_y_train,\n",
        "                    epochs=20,\n",
        "                    batch_size=128,\n",
        "                    validation_split=.2)"
      ],
      "metadata": {
        "colab": {
          "base_uri": "https://localhost:8080/"
        },
        "id": "iM0UOoNo0vJB",
        "outputId": "527f6f9f-3458-4fc0-eaf3-fe65101ea06b"
      },
      "execution_count": 40,
      "outputs": [
        {
          "output_type": "stream",
          "name": "stdout",
          "text": [
            "Epoch 1/20\n",
            "57/57 [==============================] - 54s 870ms/step - loss: 2.8356 - acc: 0.3106 - val_loss: 2.2928 - val_acc: 0.3996\n",
            "Epoch 2/20\n",
            "57/57 [==============================] - 47s 823ms/step - loss: 2.1627 - acc: 0.4423 - val_loss: 1.9102 - val_acc: 0.4930\n",
            "Epoch 3/20\n",
            "57/57 [==============================] - 48s 840ms/step - loss: 1.8308 - acc: 0.5311 - val_loss: 2.1011 - val_acc: 0.4213\n",
            "Epoch 4/20\n",
            "57/57 [==============================] - 47s 824ms/step - loss: 1.6227 - acc: 0.5875 - val_loss: 1.8145 - val_acc: 0.5309\n",
            "Epoch 5/20\n",
            "57/57 [==============================] - 49s 860ms/step - loss: 1.4560 - acc: 0.6287 - val_loss: 1.7695 - val_acc: 0.5526\n",
            "Epoch 6/20\n",
            "57/57 [==============================] - 48s 838ms/step - loss: 1.3267 - acc: 0.6626 - val_loss: 1.8000 - val_acc: 0.5526\n",
            "Epoch 7/20\n",
            "57/57 [==============================] - 47s 827ms/step - loss: 1.2135 - acc: 0.6973 - val_loss: 1.7307 - val_acc: 0.5665\n",
            "Epoch 8/20\n",
            "57/57 [==============================] - 48s 843ms/step - loss: 1.1284 - acc: 0.7173 - val_loss: 1.7976 - val_acc: 0.5398\n",
            "Epoch 9/20\n",
            "57/57 [==============================] - 48s 849ms/step - loss: 1.0230 - acc: 0.7495 - val_loss: 1.8368 - val_acc: 0.5175\n",
            "Epoch 10/20\n",
            "57/57 [==============================] - 48s 837ms/step - loss: 0.9645 - acc: 0.7653 - val_loss: 1.8490 - val_acc: 0.5459\n",
            "Epoch 11/20\n",
            "57/57 [==============================] - 48s 836ms/step - loss: 0.8996 - acc: 0.7781 - val_loss: 1.8388 - val_acc: 0.5760\n",
            "Epoch 12/20\n",
            "57/57 [==============================] - 47s 830ms/step - loss: 0.8266 - acc: 0.7925 - val_loss: 1.9061 - val_acc: 0.5654\n",
            "Epoch 13/20\n",
            "57/57 [==============================] - 48s 837ms/step - loss: 0.7739 - acc: 0.8116 - val_loss: 2.2185 - val_acc: 0.4936\n",
            "Epoch 14/20\n",
            "57/57 [==============================] - 47s 832ms/step - loss: 0.7244 - acc: 0.8231 - val_loss: 2.0555 - val_acc: 0.5387\n",
            "Epoch 15/20\n",
            "57/57 [==============================] - 48s 837ms/step - loss: 0.6921 - acc: 0.8262 - val_loss: 2.0287 - val_acc: 0.5615\n",
            "Epoch 16/20\n",
            "57/57 [==============================] - 49s 865ms/step - loss: 0.6288 - acc: 0.8459 - val_loss: 2.0379 - val_acc: 0.5470\n",
            "Epoch 17/20\n",
            "57/57 [==============================] - 48s 843ms/step - loss: 0.6033 - acc: 0.8593 - val_loss: 2.0567 - val_acc: 0.5470\n",
            "Epoch 18/20\n",
            "57/57 [==============================] - 48s 837ms/step - loss: 0.5577 - acc: 0.8646 - val_loss: 2.1115 - val_acc: 0.5682\n",
            "Epoch 19/20\n",
            "57/57 [==============================] - 47s 834ms/step - loss: 0.5382 - acc: 0.8678 - val_loss: 2.0701 - val_acc: 0.5448\n",
            "Epoch 20/20\n",
            "57/57 [==============================] - 49s 855ms/step - loss: 0.5160 - acc: 0.8763 - val_loss: 2.6977 - val_acc: 0.4880\n"
          ]
        }
      ]
    },
    {
      "cell_type": "code",
      "source": [
        "#accuracy vs. the number of epochs\n",
        "\n",
        "import matplotlib.pyplot as plt\n",
        "\n",
        "acc = history.history['acc']\n",
        "val_acc = history.history['val_acc']\n",
        "loss = history.history['loss']\n",
        "val_loss = history.history['val_loss']\n",
        "\n",
        "\n",
        "epochs = range(len(acc))\n",
        "\n",
        "plt.plot(epochs, acc, 'bo', label='Training acc')\n",
        "plt.plot(epochs, val_acc, 'b', label='Validation acc')\n",
        "plt.title('Training and validation accuracy')\n",
        "plt.legend()\n",
        "\n",
        "plt.figure()\n",
        "\n",
        "plt.plot(epochs, loss, 'bo', label='Training loss')\n",
        "plt.plot(epochs, val_loss, 'b', label='Validation loss')\n",
        "plt.title('Training and validation loss')\n",
        "plt.legend()\n",
        "\n",
        "plt.show()"
      ],
      "metadata": {
        "colab": {
          "base_uri": "https://localhost:8080/",
          "height": 545
        },
        "id": "G_PuBLu__gHQ",
        "outputId": "5d78af91-09a4-4606-9af6-49deb80c6716"
      },
      "execution_count": 41,
      "outputs": [
        {
          "output_type": "display_data",
          "data": {
            "text/plain": [
              "<Figure size 432x288 with 1 Axes>"
            ],
            "image/png": "[encoded data removed]"
          },
          "metadata": {
            "needs_background": "light"
          }
        },
        {
          "output_type": "display_data",
          "data": {
            "text/plain": [
              "<Figure size 432x288 with 1 Axes>"
            ],
            "image/png": "[encoded data removed]"
          },
          "metadata": {
            "needs_background": "light"
          }
        }
      ]
    },
    {
      "cell_type": "markdown",
      "source": [
        "**After 7-10 epochs, the model started to overfit. Applying regularisation in the layers is my recommendation.**"
      ],
      "metadata": {
        "id": "a0rHULtH_xZ3"
      }
    }
  ]
}