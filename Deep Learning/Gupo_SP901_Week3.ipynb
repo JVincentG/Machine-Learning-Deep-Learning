{
  "nbformat": 4,
  "nbformat_minor": 0,
  "metadata": {
    "colab": {
      "name": "Gupo_ SP901_Week3.ipynb",
      "provenance": [],
      "collapsed_sections": [
        "8PCDsuhEwsrW"
      ]
    },
    "kernelspec": {
      "name": "python3",
      "display_name": "Python 3"
    },
    "language_info": {
      "name": "python"
    }
  },
  "cells": [
    {
      "cell_type": "markdown",
      "source": [
        "# Loading the dataset"
      ],
      "metadata": {
        "id": "8PCDsuhEwsrW"
      }
    },
    {
      "cell_type": "code",
      "execution_count": null,
      "metadata": {
        "id": "aSa-rOEQwHNP"
      },
      "outputs": [],
      "source": [
        "import pandas as pd\n",
        "from sklearn.datasets import load_iris\n",
        "x, y = load_iris(as_frame=True, return_X_y=True)"
      ]
    },
    {
      "cell_type": "code",
      "source": [
        "# checking first 5 features\n",
        "x.head()"
      ],
      "metadata": {
        "colab": {
          "base_uri": "https://localhost:8080/",
          "height": 206
        },
        "id": "_CBhZQefwsGf",
        "outputId": "c3702903-c15e-4814-b497-e541af19afd5"
      },
      "execution_count": null,
      "outputs": [
        {
          "output_type": "execute_result",
          "data": {
            "text/html": [
              "\n",
              "  <div id=\"df-0024b876-c811-498a-b083-1b7a1e38a86f\">\n",
              "    <div class=\"colab-df-container\">\n",
              "      <div>\n",
              "<style scoped>\n",
              "    .dataframe tbody tr th:only-of-type {\n",
              "        vertical-align: middle;\n",
              "    }\n",
              "\n",
              "    .dataframe tbody tr th {\n",
              "        vertical-align: top;\n",
              "    }\n",
              "\n",
              "    .dataframe thead th {\n",
              "        text-align: right;\n",
              "    }\n",
              "</style>\n",
              "<table border=\"1\" class=\"dataframe\">\n",
              "  <thead>\n",
              "    <tr style=\"text-align: right;\">\n",
              "      <th></th>\n",
              "      <th>sepal length (cm)</th>\n",
              "      <th>sepal width (cm)</th>\n",
              "      <th>petal length (cm)</th>\n",
              "      <th>petal width (cm)</th>\n",
              "    </tr>\n",
              "  </thead>\n",
              "  <tbody>\n",
              "    <tr>\n",
              "      <th>0</th>\n",
              "      <td>5.1</td>\n",
              "      <td>3.5</td>\n",
              "      <td>1.4</td>\n",
              "      <td>0.2</td>\n",
              "    </tr>\n",
              "    <tr>\n",
              "      <th>1</th>\n",
              "      <td>4.9</td>\n",
              "      <td>3.0</td>\n",
              "      <td>1.4</td>\n",
              "      <td>0.2</td>\n",
              "    </tr>\n",
              "    <tr>\n",
              "      <th>2</th>\n",
              "      <td>4.7</td>\n",
              "      <td>3.2</td>\n",
              "      <td>1.3</td>\n",
              "      <td>0.2</td>\n",
              "    </tr>\n",
              "    <tr>\n",
              "      <th>3</th>\n",
              "      <td>4.6</td>\n",
              "      <td>3.1</td>\n",
              "      <td>1.5</td>\n",
              "      <td>0.2</td>\n",
              "    </tr>\n",
              "    <tr>\n",
              "      <th>4</th>\n",
              "      <td>5.0</td>\n",
              "      <td>3.6</td>\n",
              "      <td>1.4</td>\n",
              "      <td>0.2</td>\n",
              "    </tr>\n",
              "  </tbody>\n",
              "</table>\n",
              "</div>\n",
              "      <button class=\"colab-df-convert\" onclick=\"convertToInteractive('df-0024b876-c811-498a-b083-1b7a1e38a86f')\"\n",
              "              title=\"Convert this dataframe to an interactive table.\"\n",
              "              style=\"display:none;\">\n",
              "        \n",
              "  <svg xmlns=\"http://www.w3.org/2000/svg\" height=\"24px\"viewBox=\"0 0 24 24\"\n",
              "       width=\"24px\">\n",
              "    <path d=\"M0 0h24v24H0V0z\" fill=\"none\"/>\n",
              "    <path d=\"M18.56 5.44l.94 2.06.94-2.06 2.06-.94-2.06-.94-.94-2.06-.94 2.06-2.06.94zm-11 1L8.5 8.5l.94-2.06 2.06-.94-2.06-.94L8.5 2.5l-.94 2.06-2.06.94zm10 10l.94 2.06.94-2.06 2.06-.94-2.06-.94-.94-2.06-.94 2.06-2.06.94z\"/><path d=\"M17.41 7.96l-1.37-1.37c-.4-.4-.92-.59-1.43-.59-.52 0-1.04.2-1.43.59L10.3 9.45l-7.72 7.72c-.78.78-.78 2.05 0 2.83L4 21.41c.39.39.9.59 1.41.59.51 0 1.02-.2 1.41-.59l7.78-7.78 2.81-2.81c.8-.78.8-2.07 0-2.86zM5.41 20L4 18.59l7.72-7.72 1.47 1.35L5.41 20z\"/>\n",
              "  </svg>\n",
              "      </button>\n",
              "      \n",
              "  <style>\n",
              "    .colab-df-container {\n",
              "      display:flex;\n",
              "      flex-wrap:wrap;\n",
              "      gap: 12px;\n",
              "    }\n",
              "\n",
              "    .colab-df-convert {\n",
              "      background-color: #E8F0FE;\n",
              "      border: none;\n",
              "      border-radius: 50%;\n",
              "      cursor: pointer;\n",
              "      display: none;\n",
              "      fill: #1967D2;\n",
              "      height: 32px;\n",
              "      padding: 0 0 0 0;\n",
              "      width: 32px;\n",
              "    }\n",
              "\n",
              "    .colab-df-convert:hover {\n",
              "      background-color: #E2EBFA;\n",
              "      box-shadow: 0px 1px 2px rgba(60, 64, 67, 0.3), 0px 1px 3px 1px rgba(60, 64, 67, 0.15);\n",
              "      fill: #174EA6;\n",
              "    }\n",
              "\n",
              "    [theme=dark] .colab-df-convert {\n",
              "      background-color: #3B4455;\n",
              "      fill: #D2E3FC;\n",
              "    }\n",
              "\n",
              "    [theme=dark] .colab-df-convert:hover {\n",
              "      background-color: #434B5C;\n",
              "      box-shadow: 0px 1px 3px 1px rgba(0, 0, 0, 0.15);\n",
              "      filter: drop-shadow(0px 1px 2px rgba(0, 0, 0, 0.3));\n",
              "      fill: #FFFFFF;\n",
              "    }\n",
              "  </style>\n",
              "\n",
              "      <script>\n",
              "        const buttonEl =\n",
              "          document.querySelector('#df-0024b876-c811-498a-b083-1b7a1e38a86f button.colab-df-convert');\n",
              "        buttonEl.style.display =\n",
              "          google.colab.kernel.accessAllowed ? 'block' : 'none';\n",
              "\n",
              "        async function convertToInteractive(key) {\n",
              "          const element = document.querySelector('#df-0024b876-c811-498a-b083-1b7a1e38a86f');\n",
              "          const dataTable =\n",
              "            await google.colab.kernel.invokeFunction('convertToInteractive',\n",
              "                                                     [key], {});\n",
              "          if (!dataTable) return;\n",
              "\n",
              "          const docLinkHtml = 'Like what you see? Visit the ' +\n",
              "            '<a target=\"_blank\" href=https://colab.research.google.com/notebooks/data_table.ipynb>data table notebook</a>'\n",
              "            + ' to learn more about interactive tables.';\n",
              "          element.innerHTML = '';\n",
              "          dataTable['output_type'] = 'display_data';\n",
              "          await google.colab.output.renderOutput(dataTable, element);\n",
              "          const docLink = document.createElement('div');\n",
              "          docLink.innerHTML = docLinkHtml;\n",
              "          element.appendChild(docLink);\n",
              "        }\n",
              "      </script>\n",
              "    </div>\n",
              "  </div>\n",
              "  "
            ],
            "text/plain": [
              "   sepal length (cm)  sepal width (cm)  petal length (cm)  petal width (cm)\n",
              "0                5.1               3.5                1.4               0.2\n",
              "1                4.9               3.0                1.4               0.2\n",
              "2                4.7               3.2                1.3               0.2\n",
              "3                4.6               3.1                1.5               0.2\n",
              "4                5.0               3.6                1.4               0.2"
            ]
          },
          "metadata": {},
          "execution_count": 8
        }
      ]
    },
    {
      "cell_type": "code",
      "source": [
        "from sklearn.preprocessing import MinMaxScaler\n",
        "scaler = MinMaxScaler()\n",
        "scaler.fit(x)\n",
        "scaled_x = scaler.transform(x)"
      ],
      "metadata": {
        "id": "1JwA6K_Q1umg"
      },
      "execution_count": null,
      "outputs": []
    },
    {
      "cell_type": "code",
      "source": [
        "# observing the first 5 features of transformed data\n",
        "scaled_x = pd.DataFrame(scaled_x, columns = ['sepal length (cm)','sepal width (cm)','petal length (cm)','petal width (cm)'])\n",
        "scaled_x.head()\n",
        "\n",
        "km_x = scaled_x\n",
        "dbscan_x = scaled_x\n",
        "hierarchical_x = scaled_x"
      ],
      "metadata": {
        "id": "1QkWTR3054IB"
      },
      "execution_count": null,
      "outputs": []
    },
    {
      "cell_type": "markdown",
      "source": [
        "# Clustering the dataset in 3 different algorithms"
      ],
      "metadata": {
        "id": "rsSAGw2hEe-8"
      }
    },
    {
      "cell_type": "code",
      "source": [
        "from sklearn.cluster import KMeans\n",
        "from sklearn.cluster import DBSCAN\n",
        "from sklearn.cluster import AgglomerativeClustering"
      ],
      "metadata": {
        "id": "45h501gc86Bi"
      },
      "execution_count": null,
      "outputs": []
    },
    {
      "cell_type": "code",
      "source": [
        "km = KMeans(n_clusters=3)\n",
        "km_result = km.fit_predict(scaled_x)\n",
        "\n",
        "dbscan = DBSCAN(eps=0.4)\n",
        "dbscan_result = dbscan.fit_predict(scaled_x)\n",
        "\n",
        "hierarchical = AgglomerativeClustering(n_clusters=3)\n",
        "hierarchical_result = hierarchical.fit_predict(scaled_x)"
      ],
      "metadata": {
        "id": "g3X3OywoEnKi"
      },
      "execution_count": null,
      "outputs": []
    },
    {
      "cell_type": "markdown",
      "source": [
        "# Visualization of the created clusters"
      ],
      "metadata": {
        "id": "Zpzz-b1EY6xH"
      }
    },
    {
      "cell_type": "code",
      "source": [
        "from matplotlib import pyplot as plt\n",
        "%matplotlib inline\n",
        "\n",
        "km_x['cluster'] = km_result\n",
        "km_df1 = km_x[km_x.cluster==0]\n",
        "km_df2 = km_x[km_x.cluster==1]\n",
        "km_df3 = km_x[km_x.cluster==2]\n",
        "\n",
        "hierarchical_x['cluster'] = hierarchical_result\n",
        "hierarchical_x\n",
        "hierarchical_df1 = hierarchical_x[hierarchical_x.cluster==1]\n",
        "hierarchical_df2 = hierarchical_x[hierarchical_x.cluster==2]\n",
        "hierarchical_df3 = hierarchical_x[hierarchical_x.cluster==0]\n",
        "\n",
        "\n",
        "dbscan_x['cluster'] = dbscan_result\n",
        "dbscan_x\n",
        "\n",
        "dbscan_df1 = dbscan_x[dbscan_x.cluster==1]\n",
        "dbscan_df2 = dbscan_x[dbscan_x.cluster==2]\n",
        "dbscan_df3 = dbscan_x[dbscan_x.cluster==0]\n"
      ],
      "metadata": {
        "id": "HaIpI-CPI9G9"
      },
      "execution_count": null,
      "outputs": []
    },
    {
      "cell_type": "code",
      "source": [
        "from matplotlib.pyplot import figure\n",
        "fig, (ax1, ax2,ax3) = plt.subplots(3, 1)\n",
        "fig = plt.gcf()\n",
        "fig.set_size_inches(6, 10)\n",
        "fig.savefig('test2png.png', dpi=100)\n",
        "\n",
        "ax1.scatter(km_df1['petal length (cm)'],km_df1['petal width (cm)'],color='blue')\n",
        "ax1.scatter(km_df2['petal length (cm)'],km_df2['petal width (cm)'],color='green')\n",
        "ax1.scatter(km_df3['petal length (cm)'],km_df3['petal width (cm)'],color='yellow')\n",
        "ax1.set_ylabel('Clustering result using KMeans')\n",
        "\n",
        "ax2.scatter(dbscan_df1['petal length (cm)'],dbscan_df1['petal width (cm)'],color='blue')\n",
        "ax2.scatter(dbscan_df2['petal length (cm)'],dbscan_df2['petal width (cm)'],color='green')\n",
        "ax2.scatter(dbscan_df3['petal length (cm)'],dbscan_df3['petal width (cm)'],color='yellow')\n",
        "ax2.set_ylabel('Clustering result using DBSCAN')\n",
        "\n",
        "\n",
        "ax3.scatter(hierarchical_df1['petal length (cm)'],hierarchical_df1['petal width (cm)'],color='blue')\n",
        "ax3.scatter(hierarchical_df2['petal length (cm)'],hierarchical_df2['petal width (cm)'],color='green')\n",
        "ax3.scatter(hierarchical_df3['petal length (cm)'],hierarchical_df3['petal width (cm)'],color='yellow')\n",
        "ax3.set_xlabel('petal length (cm)')\n",
        "ax3.set_ylabel('Clustering result using Hierarchical')"
      ],
      "metadata": {
        "colab": {
          "base_uri": "https://localhost:8080/",
          "height": 623
        },
        "id": "oVwLB-KVPxrm",
        "outputId": "48cd248b-8bbb-4e56-e6c6-2dfabf89f91c"
      },
      "execution_count": null,
      "outputs": [
        {
          "output_type": "execute_result",
          "data": {
            "text/plain": [
              "Text(37.722222222222214, 0.5, 'Clustering result using Hierarchical')"
            ]
          },
          "metadata": {},
          "execution_count": 154
        },
        {
          "output_type": "display_data",
          "data": {
            "image/png": "[encoded data removed]",
            "text/plain": [
              "<Figure size 432x720 with 3 Axes>"
            ]
          },
          "metadata": {
            "needs_background": "light"
          }
        }
      ]
    },
    {
      "cell_type": "markdown",
      "source": [
        "As we can see, both Hierarchical and KMeans have a noise in the 2nd and 3rd cluster unlike DBSCAN"
      ],
      "metadata": {
        "id": "qYULR_s1SaNp"
      }
    },
    {
      "cell_type": "markdown",
      "source": [
        "# Results Comparison using ARI and Silhouette score"
      ],
      "metadata": {
        "id": "ipgFV6JOBzRT"
      }
    },
    {
      "cell_type": "code",
      "source": [
        "# ARI\n",
        "from sklearn.metrics.cluster import adjusted_rand_score\n",
        "km_ari = adjusted_rand_score(y,km_result)\n",
        "dbscan_ari = adjusted_rand_score(y,dbscan_result)\n",
        "hierarchical_ari = adjusted_rand_score(y,hierarchical_result)\n",
        "\n",
        "# Silhouette Score\n",
        "from sklearn.metrics.cluster import silhouette_score\n",
        "km_ss = silhouette_score(scaled_x,km_result)\n",
        "dbscan_ss = silhouette_score(scaled_x,dbscan_result)\n",
        "hierarchical_ss = silhouette_score(scaled_x,hierarchical_result)"
      ],
      "metadata": {
        "id": "3rXD-RfSByOq"
      },
      "execution_count": null,
      "outputs": []
    },
    {
      "cell_type": "code",
      "source": [
        "print(f\"Kmeans adjusted score: {km_ari}\")\n",
        "print(f\"DBSCAN adjustedscore: {dbscan_ari}\")\n",
        "print(f\"Hierarchical adjusted score: {hierarchical_ari}\\n\")\n",
        "\n",
        "print(f\"Kmeans silhouette score: {km_ss}\")\n",
        "print(f\"DBSCAN silhouette score: {dbscan_ss}\")\n",
        "print(f\"Hierarchical silhouette score: {hierarchical_ss}\")"
      ],
      "metadata": {
        "colab": {
          "base_uri": "https://localhost:8080/"
        },
        "id": "E-zWyGRIaGeX",
        "outputId": "cb7750b3-2ae3-4e01-bf5c-e95f91ad4918"
      },
      "execution_count": null,
      "outputs": [
        {
          "output_type": "stream",
          "name": "stdout",
          "text": [
            "Kmeans adjusted score: 0.672259778534282\n",
            "DBSCAN adjustedscore: 0.6901683020339203\n",
            "Hierarchical adjusted score: 0.672259778534282\n",
            "\n",
            "Kmeans silhouette score: 0.7583332856387388\n",
            "DBSCAN silhouette score: 0.7810118337974437\n",
            "Hierarchical silhouette score: 0.7583332856387388\n"
          ]
        }
      ]
    },
    {
      "cell_type": "markdown",
      "source": [
        "DBSCAN has the highest score among the 3 clustering algorithms followed by KMeans and Hierarchical at tie position."
      ],
      "metadata": {
        "id": "FrGOZP3Fb6cp"
      }
    }
  ]
}